{
 "cells": [
  {
   "cell_type": "markdown",
   "id": "c4321876-2a43-4d28-ae42-235035ec0e47",
   "metadata": {},
   "source": [
    "## Examples using `ase-weas-widget`\n",
    "\n",
    "Installing `ase-weas-widget` registers `weas-widget` as an external viewer for `ase.visualize.view`.  \n",
    "NOTE: We require ase >= 3.24 as the entry point system is only added at this release"
   ]
  },
  {
   "cell_type": "code",
   "execution_count": 1,
   "id": "5661ffcb-000f-4004-b192-5b559dcbbc17",
   "metadata": {},
   "outputs": [],
   "source": [
    "from ase.build import bulk, molecule\n",
    "from ase.visualize import view"
   ]
  },
  {
   "cell_type": "code",
   "execution_count": 2,
   "id": "1398311c-d6b1-4c25-9c46-96ad205d4799",
   "metadata": {},
   "outputs": [
    {
     "data": {
      "application/vnd.jupyter.widget-view+json": {
       "model_id": "98d58a91223b435f8fdb1060662c8b9e",
       "version_major": 2,
       "version_minor": 0
      },
      "text/plain": [
       "WeasWidget(children=(BaseWidget(atoms={'species': {'Si': 'Si'}, 'cell': [0.0, 5.4, 5.4, 5.4, 0.0, 5.4, 5.4, 5.…"
      ]
     },
     "execution_count": 2,
     "metadata": {},
     "output_type": "execute_result"
    }
   ],
   "source": [
    "atoms = bulk('Si', 'diamond', 5.4)\n",
    "view(atoms.repeat((2,2,2)), viewer='weas')"
   ]
  },
  {
   "cell_type": "markdown",
   "id": "03d32be9-c0e8-47a0-8f2b-e908e18153d9",
   "metadata": {},
   "source": [
    "The view can be customized via a mods function"
   ]
  },
  {
   "cell_type": "code",
   "execution_count": 3,
   "id": "a3cf5969-128b-45dc-880e-f22845fcca52",
   "metadata": {},
   "outputs": [
    {
     "data": {
      "application/vnd.jupyter.widget-view+json": {
       "model_id": "04c4dda8d24f492da3088edf25cda1ba",
       "version_major": 2,
       "version_minor": 0
      },
      "text/plain": [
       "WeasWidget(children=(BaseWidget(atoms={'species': {'Si': 'Si'}, 'cell': [0.0, 5.4, 5.4, 5.4, 0.0, 5.4, 5.4, 5.…"
      ]
     },
     "execution_count": 3,
     "metadata": {},
     "output_type": "execute_result"
    }
   ],
   "source": [
    "def apply_vesta(viewer):\n",
    "    \"\"\"mods to customize the WeasWidget object\"\"\"\n",
    "    viewer.avr.model_style = 1\n",
    "    viewer.avr.show_bonded_atoms = True\n",
    "    viewer.avr.color_type = \"VESTA\"\n",
    "    \n",
    "atoms = bulk('Si', 'diamond', 5.4)\n",
    "view(atoms.repeat((2,2,2)), viewer='weas', mods=apply_vesta)"
   ]
  },
  {
   "cell_type": "markdown",
   "id": "14a57bc7-ccd4-4d79-b030-73a2e6e1d108",
   "metadata": {},
   "source": [
    "The mods function is actually unnecesssary, since we can modifer the returned `WeasWidget` object directly...  \n",
    "This works since the notebook will just show the last returned object"
   ]
  },
  {
   "cell_type": "code",
   "execution_count": 4,
   "id": "841aac6c-d029-4c2e-945c-b84770409523",
   "metadata": {},
   "outputs": [
    {
     "data": {
      "application/vnd.jupyter.widget-view+json": {
       "model_id": "77b7fa04b6744cceb392052892873e0c",
       "version_major": 2,
       "version_minor": 0
      },
      "text/plain": [
       "WeasWidget(children=(BaseWidget(atoms={'species': {'Si': 'Si'}, 'cell': [0.0, 5.4, 5.4, 5.4, 0.0, 5.4, 5.4, 5.…"
      ]
     },
     "execution_count": 4,
     "metadata": {},
     "output_type": "execute_result"
    }
   ],
   "source": [
    "atoms = bulk('Si', 'diamond', 5.4)\n",
    "viewer = view(atoms.repeat((2,2,2)), viewer='weas')\n",
    "viewer.avr.model_style = 1\n",
    "viewer.avr.show_bonded_atoms = True\n",
    "viewer.avr.color_type = \"VESTA\"\n",
    "viewer"
   ]
  },
  {
   "cell_type": "markdown",
   "id": "41c4ba78-a348-40d6-ac26-3054ac022036",
   "metadata": {},
   "source": [
    "Or with a simple modifier string, the avaliable options can be found at https://github.com/bonan-group/ase-weas-widget/blob/main/src/ase_weas_widget/viewer.py"
   ]
  },
  {
   "cell_type": "code",
   "execution_count": 5,
   "id": "a8e3ad05-60de-4e02-b2a4-e9fb17b06d07",
   "metadata": {},
   "outputs": [
    {
     "data": {
      "application/vnd.jupyter.widget-view+json": {
       "model_id": "8a605c5db48b44adb4f77b5e3554f893",
       "version_major": 2,
       "version_minor": 0
      },
      "text/plain": [
       "WeasWidget(children=(BaseWidget(atoms={'species': {'Si': 'Si'}, 'cell': [0.0, 5.4, 5.4, 5.4, 0.0, 5.4, 5.4, 5.…"
      ]
     },
     "execution_count": 5,
     "metadata": {},
     "output_type": "execute_result"
    }
   ],
   "source": [
    "view(atoms.repeat((2,2,2)), viewer='weas', presets='vesta,ball,legend')  # Apply VESTA style then switch to ball"
   ]
  },
  {
   "cell_type": "code",
   "execution_count": 6,
   "id": "7132314e-5d9a-4807-bda3-d33221177461",
   "metadata": {},
   "outputs": [
    {
     "data": {
      "application/vnd.jupyter.widget-view+json": {
       "model_id": "0c84bd6cfcd747eb89ae5be76c427fbf",
       "version_major": 2,
       "version_minor": 0
      },
      "text/plain": [
       "WeasWidget(children=(BaseWidget(atoms={'species': {'Mg': 'Mg', 'O': 'O'}, 'cell': [0.0, 4.0, 4.0, 4.0, 0.0, 4.…"
      ]
     },
     "execution_count": 6,
     "metadata": {},
     "output_type": "execute_result"
    }
   ],
   "source": [
    "atoms = bulk('MgO', 'rocksalt', 4.0)\n",
    "view(atoms.repeat((2,2,2)), viewer='weas')"
   ]
  },
  {
   "cell_type": "markdown",
   "id": "dcc621de-59ff-4074-827a-b7b64c7b8b96",
   "metadata": {},
   "source": [
    "Play a trajectory "
   ]
  },
  {
   "cell_type": "code",
   "execution_count": 7,
   "id": "182ec15f-698f-4855-977c-d7fd472d0fe5",
   "metadata": {},
   "outputs": [
    {
     "data": {
      "application/vnd.jupyter.widget-view+json": {
       "model_id": "29418537237d49ad9a4ee3e1f82346f1",
       "version_major": 2,
       "version_minor": 0
      },
      "text/plain": [
       "WeasWidget(children=(BaseWidget(atoms=[{'species': {'S': 'S', 'O': 'O', 'C': 'C', 'H': 'H'}, 'cell': [0.0, 0.0…"
      ]
     },
     "execution_count": 7,
     "metadata": {},
     "output_type": "execute_result"
    }
   ],
   "source": [
    "\n",
    "atoms = molecule(\"C2H6SO\")\n",
    "# create a list of atoms by rotating it.\n",
    "images = []\n",
    "for i in range(0, 360, 10):\n",
    "    new_atoms = atoms.copy()\n",
    "    new_atoms.rotate(\"z\", i)\n",
    "    images.append(new_atoms)\n",
    "view(images, viewer='weas')"
   ]
  },
  {
   "cell_type": "code",
   "execution_count": 8,
   "id": "edcc3f25-56ec-4d29-a17c-3fea4b500514",
   "metadata": {},
   "outputs": [
    {
     "data": {
      "application/vnd.jupyter.widget-view+json": {
       "model_id": "8d0a14598c03457a963cee8449a70f53",
       "version_major": 2,
       "version_minor": 0
      },
      "text/plain": [
       "WeasWidget(children=(BaseWidget(atoms={'species': {'Fe': 'Fe'}, 'cell': [5.74, 0.0, 0.0, 0.0, 5.74, 0.0, 0.0, …"
      ]
     },
     "execution_count": 8,
     "metadata": {},
     "output_type": "execute_result"
    }
   ],
   "source": [
    "import numpy as np\n",
    "atoms = bulk(\"Fe\", cubic=True)\n",
    "atoms*=[2, 2, 1]\n",
    "atoms.set_array(\"moment\", np.ones(len(atoms)))\n",
    "def show_moment(viewer):\n",
    "    viewer.avr.model_style = 1\n",
    "    viewer.camera.setting = {\"direction\": [0, -1, 0]}\n",
    "    return viewer\n",
    "    \n",
    "view(atoms, mods=show_moment, viewer='weas')\n",
    "\n"
   ]
  },
  {
   "cell_type": "markdown",
   "id": "fcb217a2-42cc-4dd6-a405-160cb62c521e",
   "metadata": {},
   "source": [
    "Add custom vector field"
   ]
  },
  {
   "cell_type": "code",
   "execution_count": 9,
   "id": "b1aab0aa-ef1a-42f4-a4dc-6727b972bef9",
   "metadata": {},
   "outputs": [
    {
     "data": {
      "application/vnd.jupyter.widget-view+json": {
       "model_id": "007f63f8e3f648f48a7dbd3b87f08347",
       "version_major": 2,
       "version_minor": 0
      },
      "text/plain": [
       "WeasWidget(children=(BaseWidget(atoms={'species': {'Fe': 'Fe'}, 'cell': [5.74, 0.0, 0.0, 0.0, 5.74, 0.0, 0.0, …"
      ]
     },
     "execution_count": 9,
     "metadata": {},
     "output_type": "execute_result"
    }
   ],
   "source": [
    "# origin of the vector\n",
    "origins = atoms.positions\n",
    "# the vertor\n",
    "vectors = [[1, 1, 1]]*len(atoms)\n",
    "\n",
    "def add_vector(viewer):\n",
    "    viewer.avr.model_style = 1\n",
    "    viewer.camera.setting = {\"direction\": [0, -1, 0]}\n",
    "    viewer.avr.vf.settings[\"test\"]= {\"origins\": origins, \"vectors\": vectors, \"color\": \"red\"}\n",
    "    return viewer\n",
    "    \n",
    "view(atoms, mods=add_vector, viewer='weas')\n"
   ]
  },
  {
   "cell_type": "markdown",
   "id": "43f6b4e1-cdd7-448d-ba61-67309f5a2711",
   "metadata": {},
   "source": [
    "Color by attribute"
   ]
  },
  {
   "cell_type": "code",
   "execution_count": 10,
   "id": "7d8236a2-828b-4839-9e35-d7d3361a18be",
   "metadata": {},
   "outputs": [
    {
     "data": {
      "application/vnd.jupyter.widget-view+json": {
       "model_id": "4176e9bbdd0f45cd991b5829d4fdd821",
       "version_major": 2,
       "version_minor": 0
      },
      "text/plain": [
       "WeasWidget(children=(BaseWidget(atoms={'species': {'Fe': 'Fe'}, 'cell': [2.87, 0.0, 0.0, 0.0, 2.87, 0.0, 0.0, …"
      ]
     },
     "execution_count": 10,
     "metadata": {},
     "output_type": "execute_result"
    }
   ],
   "source": [
    "import numpy as np\n",
    "from ase.build import bulk\n",
    "\n",
    "atoms = bulk(\"Fe\", cubic=True)\n",
    "\n",
    "def apply_phonon(viewer):\n",
    "    phonon_setting = {\"eigenvectors\": np.array([[[0, 0], [0, 0],[0.5, 0]],\n",
    "                                        [[0, 0], [0, 0], [-0.5, 0]]]\n",
    "                                       ),\n",
    "            \"kpoint\": [0, 0, 0], # optional\n",
    "            \"amplitude\": 5, # scale the motion of the atoms\n",
    "            \"factor\": 1.5, # scale the length of the arrows\n",
    "            \"nframes\": 20,\n",
    "            \"repeat\": [4, 4, 1],\n",
    "            \"color\": \"blue\",\n",
    "            \"radius\": 0.1,\n",
    "            }\n",
    "    \n",
    "    viewer.avr.phonon_setting = phonon_setting\n",
    "    viewer.camera.setting = {\"direction\": [0, -1, 0]}\n",
    "\n",
    "view(atoms, mods=apply_phonon, viewer='weas')"
   ]
  },
  {
   "cell_type": "markdown",
   "id": "300959f8-6c08-4574-a161-e3d8a23ece12",
   "metadata": {},
   "source": [
    "Color by attribute - here we set the color via forces"
   ]
  },
  {
   "cell_type": "code",
   "execution_count": 11,
   "id": "eb9e9efd-6095-4ab4-898a-fef2d6e8ff73",
   "metadata": {},
   "outputs": [
    {
     "data": {
      "application/vnd.jupyter.widget-view+json": {
       "model_id": "56e25b00142c475f965fdc661977e248",
       "version_major": 2,
       "version_minor": 0
      },
      "text/plain": [
       "WeasWidget(children=(BaseWidget(atoms={'species': {'Au': 'Au'}, 'cell': [12.24, 0.0, 0.0, 0.0, 12.24, 0.0, 0.0…"
      ]
     },
     "execution_count": 11,
     "metadata": {},
     "output_type": "execute_result"
    }
   ],
   "source": [
    "from ase.build import bulk\n",
    "from ase.calculators.emt import EMT\n",
    "import numpy as np\n",
    "from weas_widget import WeasWidget\n",
    "\n",
    "atoms = bulk('Au', cubic = True)\n",
    "atoms *= [3, 3, 3]\n",
    "atoms.positions += np.random.random((len(atoms), 3))\n",
    "atoms.calc = EMT()\n",
    "atoms.get_potential_energy()\n",
    "# set the forces as an attribute\n",
    "atoms.set_array(\"Force\", atoms.calc.results[\"forces\"])\n",
    "\n",
    "def color_by_forces(viewer):\n",
    "    viewer.avr.color_by = \"Force\"\n",
    "    viewer.avr.color_ramp = [\"red\", \"yellow\", \"blue\"]\n",
    "    viewer.avr.model_style = 1\n",
    "    viewer\n",
    "view(atoms, viewer='weas', mods=color_by_forces)"
   ]
  },
  {
   "cell_type": "markdown",
   "id": "bf9dbe04-4a3b-46a3-bcec-940aaf557dbc",
   "metadata": {},
   "source": [
    "Customize the viewer"
   ]
  },
  {
   "cell_type": "code",
   "execution_count": 12,
   "id": "b720d535-c51b-4d7d-b82c-89b5f09299c6",
   "metadata": {},
   "outputs": [
    {
     "data": {
      "application/vnd.jupyter.widget-view+json": {
       "model_id": "4912a2ec390e4c39aefe8160e8401f56",
       "version_major": 2,
       "version_minor": 0
      },
      "text/plain": [
       "WeasWidget(children=(BaseWidget(atoms={'species': {'Mg': 'Mg', 'O': 'O'}, 'cell': [0.0, 4.0, 4.0, 4.0, 0.0, 4.…"
      ]
     },
     "execution_count": 12,
     "metadata": {},
     "output_type": "execute_result"
    }
   ],
   "source": [
    "atoms = bulk('MgO', 'rocksalt', 4.0)\n",
    "viewerStyle = {\"width\": \"600px\", \"height\": \"600px\"}\n",
    "guiConfig={\n",
    "           \"components\": {\n",
    "                          \"enabled\": True,\n",
    "                          \"atomsControl\": True,\n",
    "                          \"buttons\": True},\n",
    "           \"buttons\": {\n",
    "                       \"enabled\": True,\n",
    "                       \"fullscreen\": True,\n",
    "                       \"download\": True,\n",
    "                       \"measurement\": True,\n",
    "                       }\n",
    "         }\n",
    "view(atoms.repeat((2,2,2)), viewer='weas', viewer_kwargs={'viewerStyle': viewerStyle, 'guiConfig': guiConfig}, \n",
    "    mods=lambda x: setattr(x.avr, 'model_style', 1) \n",
    "    )\n",
    "\n"
   ]
  }
 ],
 "metadata": {
  "kernelspec": {
   "display_name": "Python 3 (ipykernel)",
   "language": "python",
   "name": "python3"
  },
  "language_info": {
   "codemirror_mode": {
    "name": "ipython",
    "version": 3
   },
   "file_extension": ".py",
   "mimetype": "text/x-python",
   "name": "python",
   "nbconvert_exporter": "python",
   "pygments_lexer": "ipython3",
   "version": "3.12.0"
  }
 },
 "nbformat": 4,
 "nbformat_minor": 5
}
