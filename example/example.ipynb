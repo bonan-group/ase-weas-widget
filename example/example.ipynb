{
 "cells": [
  {
   "cell_type": "code",
   "execution_count": 1,
   "id": "5661ffcb-000f-4004-b192-5b559dcbbc17",
   "metadata": {},
   "outputs": [],
   "source": [
    "from ase.build import bulk\n",
    "from ase.visualize import view"
   ]
  },
  {
   "cell_type": "code",
   "execution_count": 2,
   "id": "1398311c-d6b1-4c25-9c46-96ad205d4799",
   "metadata": {},
   "outputs": [
    {
     "data": {
      "application/vnd.jupyter.widget-view+json": {
       "model_id": "c133390a8d984c6b850622a1d0aa3173",
       "version_major": 2,
       "version_minor": 0
      },
      "text/plain": [
       "WeasWidget(children=(BaseWidget(atoms={'species': {'Si': 'Si'}, 'cell': [0.0, 5.4, 5.4, 5.4, 0.0, 5.4, 5.4, 5.…"
      ]
     },
     "execution_count": 2,
     "metadata": {},
     "output_type": "execute_result"
    }
   ],
   "source": [
    "atoms = bulk('Si', 'diamond', 5.4)\n",
    "view(atoms.repeat((2,2,2)), viewer='weas')"
   ]
  },
  {
   "cell_type": "code",
   "execution_count": 7,
   "id": "a3cf5969-128b-45dc-880e-f22845fcca52",
   "metadata": {},
   "outputs": [
    {
     "data": {
      "application/vnd.jupyter.widget-view+json": {
       "model_id": "61fdd920891d4a7699c12e91278e5077",
       "version_major": 2,
       "version_minor": 0
      },
      "text/plain": [
       "WeasWidget(children=(BaseWidget(atoms={'species': {'Si': 'Si'}, 'cell': [0.0, 5.4, 5.4, 5.4, 0.0, 5.4, 5.4, 5.…"
      ]
     },
     "execution_count": 7,
     "metadata": {},
     "output_type": "execute_result"
    }
   ],
   "source": [
    "def callback(viewer):\n",
    "    \"\"\"Callback to customize the WeasWidget object\"\"\"\n",
    "    viewer.avr.model_style = 1\n",
    "    viewer.avr.show_bonded_atoms = True\n",
    "    viewer.avr.color_type = \"VESTA\"\n",
    "    \n",
    "atoms = bulk('Si', 'diamond', 5.4)\n",
    "view(atoms.repeat((2,2,2)), viewer='weas', callback=callback)"
   ]
  },
  {
   "cell_type": "code",
   "execution_count": null,
   "id": "7132314e-5d9a-4807-bda3-d33221177461",
   "metadata": {},
   "outputs": [],
   "source": [
    "atoms = bulk('MgO', 'rocksalt', 5.4)\n",
    "view(atoms.repeat((2,2,2)), viewer='weas')"
   ]
  }
 ],
 "metadata": {
  "kernelspec": {
   "display_name": "Python 3 (ipykernel)",
   "language": "python",
   "name": "python3"
  },
  "language_info": {
   "codemirror_mode": {
    "name": "ipython",
    "version": 3
   },
   "file_extension": ".py",
   "mimetype": "text/x-python",
   "name": "python",
   "nbconvert_exporter": "python",
   "pygments_lexer": "ipython3",
   "version": "3.12.0"
  }
 },
 "nbformat": 4,
 "nbformat_minor": 5
}
