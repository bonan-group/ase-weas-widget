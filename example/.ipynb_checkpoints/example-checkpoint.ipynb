{
 "cells": [
  {
   "cell_type": "code",
   "execution_count": 7,
   "id": "5661ffcb-000f-4004-b192-5b559dcbbc17",
   "metadata": {},
   "outputs": [],
   "source": [
    "from ase.build import bulk\n",
    "from ase.visualize import view\n",
    "import ase_weas_widget"
   ]
  },
  {
   "cell_type": "code",
   "execution_count": 8,
   "id": "1398311c-d6b1-4c25-9c46-96ad205d4799",
   "metadata": {},
   "outputs": [
    {
     "data": {
      "application/vnd.jupyter.widget-view+json": {
       "model_id": "d631cd5ef46a4153bb7c44729c9ae0a0",
       "version_major": 2,
       "version_minor": 0
      },
      "text/plain": [
       "WeasWidget(children=(BaseWidget(atoms={'species': {'Si': 'Si'}, 'cell': [0.0, 2.7, 2.7, 2.7, 0.0, 2.7, 2.7, 2.…"
      ]
     },
     "execution_count": 8,
     "metadata": {},
     "output_type": "execute_result"
    }
   ],
   "source": [
    "atoms = bulk('Si', 'diamond', 5.4)\n",
    "view(atoms, viewer='weas')"
   ]
  },
  {
   "cell_type": "code",
   "execution_count": 10,
   "id": "7132314e-5d9a-4807-bda3-d33221177461",
   "metadata": {},
   "outputs": [
    {
     "data": {
      "application/vnd.jupyter.widget-view+json": {
       "model_id": "9b850f368437432e87b9b048f91c5445",
       "version_major": 2,
       "version_minor": 0
      },
      "text/plain": [
       "WeasWidget(children=(BaseWidget(atoms={'species': {'Mg': 'Mg', 'O': 'O'}, 'cell': [0.0, 5.4, 5.4, 5.4, 0.0, 5.…"
      ]
     },
     "execution_count": 10,
     "metadata": {},
     "output_type": "execute_result"
    }
   ],
   "source": [
    "atoms = bulk('MgO', 'rocksalt', 5.4)\n",
    "view(atoms.repeat((2,2,2)), viewer='weas')"
   ]
  },
  {
   "cell_type": "code",
   "execution_count": null,
   "id": "43b4a646-eb1d-42c9-ae22-28c335cc7d9c",
   "metadata": {},
   "outputs": [],
   "source": []
  }
 ],
 "metadata": {
  "kernelspec": {
   "display_name": "Python 3 (ipykernel)",
   "language": "python",
   "name": "python3"
  },
  "language_info": {
   "codemirror_mode": {
    "name": "ipython",
    "version": 3
   },
   "file_extension": ".py",
   "mimetype": "text/x-python",
   "name": "python",
   "nbconvert_exporter": "python",
   "pygments_lexer": "ipython3",
   "version": "3.12.0"
  }
 },
 "nbformat": 4,
 "nbformat_minor": 5
}
